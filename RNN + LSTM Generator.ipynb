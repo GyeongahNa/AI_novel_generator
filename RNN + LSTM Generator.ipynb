{
 "cells": [
  {
   "cell_type": "markdown",
   "metadata": {},
   "source": [
    "https://wikidocs.net/45101 참고하시면 바로 이해됩니당!"
   ]
  },
  {
   "cell_type": "markdown",
   "metadata": {},
   "source": [
    "#### 할일\n",
    "\n",
    "- 텍스트를 단락으로 구분: 제가 빨리 해서 올려드릴게요!\n",
    "- 특수문자, 필요없는 문자\n",
    "\n",
    "- 맞춤법 검사 라이브러리: 유솔님\n",
    "- 전치사 처리 // 형태소 토큰화 라이브러리 \n",
    "\n",
    "- 어디까지 돌아가는지 체크: 지원님\n",
    "\n",
    "- 다음주 수요일 모임\n",
    "-----------------------\n",
    "\n",
    "- 보고서(LSTM, RNN 모델, 파라미터 조정)\n",
    "- 데모영상"
   ]
  },
  {
   "cell_type": "code",
   "execution_count": null,
   "metadata": {},
   "outputs": [],
   "source": [
    "from tensorflow.keras.preprocessing.text import Tokenizer\n",
    "from tensorflow.keras.preprocessing.sequence import pad_sequences\n",
    "import numpy as np\n",
    "from tensorflow.keras.utils import to_categorical\n",
    "from tensorflow.keras.models import Sequential\n",
    "from tensorflow.keras.layers import Embedding, Dense, SimpleRNN, LSTM\n",
    "\n",
    "import io"
   ]
  },
  {
   "cell_type": "markdown",
   "metadata": {},
   "source": [
    "### text 불러오기\n",
    "\n",
    "- 단락으로 다 정리가 되어있고, 단락은 \\n으로 구분되어있다고 가정,\n",
    "- 맞춤법, 띄어쓰기 모두 교정되어있다고 가정"
   ]
  },
  {
   "cell_type": "code",
   "execution_count": null,
   "metadata": {},
   "outputs": [],
   "source": [
    "filename = \"[로판] 다음생에도 과로사라고요(-86).txt\"\n",
    "with io.open(filename) as f:\n",
    "    text = f.read()"
   ]
  },
  {
   "cell_type": "code",
   "execution_count": null,
   "metadata": {},
   "outputs": [],
   "source": [
    "print(text)"
   ]
  },
  {
   "cell_type": "markdown",
   "metadata": {},
   "source": [
    "### 토큰화"
   ]
  },
  {
   "cell_type": "markdown",
   "metadata": {},
   "source": [
    "- 문장을 쪼개 단어를 분리하고, 단어 각각에 대응하는 숫자를 부여"
   ]
  },
  {
   "cell_type": "code",
   "execution_count": null,
   "metadata": {},
   "outputs": [],
   "source": [
    "tk = Tokenizer()\n",
    "tk.fit_on_texts([text])\n",
    "\n",
    "print(\"단어의 개수:\", len(tk.word_index))"
   ]
  },
  {
   "cell_type": "code",
   "execution_count": null,
   "metadata": {},
   "outputs": [],
   "source": [
    "print(tk.word_index)"
   ]
  },
  {
   "cell_type": "markdown",
   "metadata": {},
   "source": [
    "### 인코딩, 훈련데이터 만들기"
   ]
  },
  {
   "cell_type": "code",
   "execution_count": null,
   "metadata": {},
   "outputs": [],
   "source": [
    "traindata = []\n",
    "\n",
    "for phrase in text.split(\"\\n\"):\n",
    "    \n",
    "    #단락을 숫자리스트로\n",
    "    ph_splited = tk.texts_to_sequences([phrase])[0]\n",
    "    \n",
    "    #훈련데이터 생성 후 traindata에 append\n",
    "    for i in range(1, len(ph_splited)):\n",
    "        temp = []\n",
    "        for j in range(0, i + 1):\n",
    "            temp.append(ph_splited[j])\n",
    "        traindata.append(temp)\n",
    "\n",
    "print(traindata)"
   ]
  },
  {
   "cell_type": "code",
   "execution_count": null,
   "metadata": {},
   "outputs": [],
   "source": [
    "print(\"훈련데이터 크기: %d\" % len(traindata))"
   ]
  },
  {
   "cell_type": "markdown",
   "metadata": {},
   "source": [
    "### 패딩넣기"
   ]
  },
  {
   "cell_type": "code",
   "execution_count": null,
   "metadata": {},
   "outputs": [],
   "source": [
    "max_len = 0\n",
    "for data in traindata:\n",
    "    if (len(data) > max_len):\n",
    "        max_len = len(data)\n",
    "\n",
    "print(\"훈련데이터요소의 최대크기(패딩크기): %d\" % max_len)"
   ]
  },
  {
   "cell_type": "code",
   "execution_count": null,
   "metadata": {},
   "outputs": [],
   "source": [
    "traindata = pad_sequences(traindata, maxlen = max_len, padding = \"pre\")"
   ]
  },
  {
   "cell_type": "code",
   "execution_count": null,
   "metadata": {
    "scrolled": true
   },
   "outputs": [],
   "source": [
    "print(traindata)"
   ]
  },
  {
   "cell_type": "markdown",
   "metadata": {},
   "source": [
    "### x 데이터, y 데이터 만들기"
   ]
  },
  {
   "cell_type": "code",
   "execution_count": null,
   "metadata": {},
   "outputs": [],
   "source": [
    "traindata = np.array(traindata)\n",
    "x = traindata[:, :max_len - 1]\n",
    "y = traindata[:, max_len - 1]"
   ]
  },
  {
   "cell_type": "code",
   "execution_count": null,
   "metadata": {},
   "outputs": [],
   "source": [
    "print(x)"
   ]
  },
  {
   "cell_type": "code",
   "execution_count": null,
   "metadata": {},
   "outputs": [],
   "source": [
    "print(y)"
   ]
  },
  {
   "cell_type": "code",
   "execution_count": null,
   "metadata": {},
   "outputs": [],
   "source": [
    "y = to_categorical(y, dtype = np.int64)"
   ]
  },
  {
   "cell_type": "markdown",
   "metadata": {},
   "source": [
    "### 모델 만들기"
   ]
  },
  {
   "cell_type": "code",
   "execution_count": null,
   "metadata": {},
   "outputs": [],
   "source": [
    "size = len(tk.word_index) + 1\n",
    "\n",
    "model = Sequential()\n",
    "model.add(Embedding(size, 10, input_length = max_len - 1)) # 레이블을 분리하였으므로 이제 X의 길이는 5\n",
    "model.add(SimpleRNN(32))\n",
    "model.add(Dense(size, activation='softmax'))\n",
    "model.compile(loss='categorical_crossentropy', optimizer='adam', metrics=['accuracy'])\n",
    "model.fit(x, y, epochs = 100, verbose = 2, batch_size = 10)"
   ]
  },
  {
   "cell_type": "markdown",
   "metadata": {},
   "source": [
    "### Generator 만들기"
   ]
  },
  {
   "cell_type": "code",
   "execution_count": null,
   "metadata": {},
   "outputs": [],
   "source": [
    "def get_word(index, dic):\n",
    "    \n",
    "    for key,value in dic.items():\n",
    "        if (value == index):\n",
    "            return (key)"
   ]
  },
  {
   "cell_type": "code",
   "execution_count": null,
   "metadata": {},
   "outputs": [],
   "source": [
    "def RNN_novel_generator(model, tk, prompt, num):\n",
    "    for n in range(num):\n",
    "        splited = tk.texts_to_sequences([prompt])[0]\n",
    "        padded = pad_sequences([splited], maxlen = max_len - 1, padding = \"pre\")\n",
    "        predicted_idx = model.predict_classes(padded, verbose = 0)\n",
    "        predicted_word = get_word(predicted_idx, tk.word_index)\n",
    "        \n",
    "        prompt = prompt + ' ' + predicted_word\n",
    "    return (prompt)"
   ]
  },
  {
   "cell_type": "code",
   "execution_count": null,
   "metadata": {},
   "outputs": [],
   "source": [
    "print(RNN_novel_generator(model, tk, \"말\", 30));"
   ]
  },
  {
   "cell_type": "markdown",
   "metadata": {},
   "source": [
    "### LSTM"
   ]
  },
  {
   "cell_type": "code",
   "execution_count": null,
   "metadata": {},
   "outputs": [],
   "source": [
    "model2 = Sequential()\n",
    "model2.add(Embedding(size, 10, input_length = max_len-1))\n",
    "model2.add(LSTM(128))\n",
    "model2.add(Dense(size, activation = 'softmax'))\n",
    "model2.compile(loss='categorical_crossentropy', optimizer='adam', metrics=['accuracy'])\n",
    "model2.fit(x, y, epochs = 200, verbose = 2)"
   ]
  },
  {
   "cell_type": "code",
   "execution_count": null,
   "metadata": {},
   "outputs": [],
   "source": [
    "print(RNN_novel_generator(model, tk, \"말\", 30));"
   ]
  }
 ],
 "metadata": {
  "kernelspec": {
   "display_name": "Python 3",
   "language": "python",
   "name": "python3"
  },
  "language_info": {
   "codemirror_mode": {
    "name": "ipython",
    "version": 3
   },
   "file_extension": ".py",
   "mimetype": "text/x-python",
   "name": "python",
   "nbconvert_exporter": "python",
   "pygments_lexer": "ipython3",
   "version": "3.8.3"
  }
 },
 "nbformat": 4,
 "nbformat_minor": 4
}
